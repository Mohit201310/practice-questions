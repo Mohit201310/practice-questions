{
 "cells": [
  {
   "cell_type": "markdown",
   "id": "d3245e6c-2ff8-4cf4-b1d6-e43c29477d32",
   "metadata": {},
   "source": [
    "1. Print the first 5 positive integers in ascending order with one number \n",
    "in each line"
   ]
  },
  {
   "cell_type": "code",
   "execution_count": 1,
   "id": "eb6d0a69-d411-4f67-b111-82e8a565df0a",
   "metadata": {},
   "outputs": [
    {
     "name": "stdout",
     "output_type": "stream",
     "text": [
      "1\n",
      "2\n",
      "3\n",
      "4\n",
      "5\n"
     ]
    }
   ],
   "source": [
    "for i in range (5):\n",
    "    print(i+1)"
   ]
  },
  {
   "cell_type": "raw",
   "id": "a723c70f-2393-4dcc-b34c-2e045588207b",
   "metadata": {},
   "source": [
    "2. Print the following pattern\n",
    "*\n",
    "**\n",
    "***\n",
    "****\n",
    "*****\n",
    "There are no spaces between consecutive stars. There are no spaces \n",
    "at the end of each line."
   ]
  },
  {
   "cell_type": "code",
   "execution_count": 2,
   "id": "006d8a8f-6011-4f09-8b24-6ac1d4c5692e",
   "metadata": {},
   "outputs": [
    {
     "name": "stdout",
     "output_type": "stream",
     "text": [
      "*\n",
      "**\n",
      "***\n",
      "****\n",
      "*****\n"
     ]
    }
   ],
   "source": [
    "for i in range(1,6):\n",
    "    print(\"*\"*i)"
   ]
  },
  {
   "cell_type": "raw",
   "id": "d9263791-a394-44ee-8ba9-4fb01759b6ac",
   "metadata": {},
   "source": [
    "3. Accept an integer as input and print its square as output."
   ]
  },
  {
   "cell_type": "code",
   "execution_count": 3,
   "id": "663f40eb-57ba-4986-95b1-9caad8b051bb",
   "metadata": {},
   "outputs": [
    {
     "name": "stdout",
     "output_type": "stream",
     "text": [
      " enter the value of A :  4\n",
      "square of A : 16\n"
     ]
    }
   ],
   "source": [
    "A = int(input(\" enter the value of A : \"))\n",
    "print(f\"square of A : {A **2}\")"
   ]
  },
  {
   "cell_type": "raw",
   "id": "49ca4411-ab36-4e57-8d62-3628156bc49b",
   "metadata": {},
   "source": [
    "4.Accept two integers as input and print their sum as output."
   ]
  },
  {
   "cell_type": "code",
   "execution_count": 4,
   "id": "9ffb7dc4-b0d6-4176-a491-7d693c4d800b",
   "metadata": {},
   "outputs": [
    {
     "name": "stdout",
     "output_type": "stream",
     "text": [
      " enter the value of A :  5\n",
      " enter the value of B :  6\n",
      "sum of A and B : 11\n"
     ]
    }
   ],
   "source": [
    "A = int(input(\" enter the value of A : \"))\n",
    "B = int(input(\" enter the value of B : \"))\n",
    "print(f\"sum of A and B : {A+ B}\")"
   ]
  },
  {
   "cell_type": "raw",
   "id": "f303afc2-f3af-4d9d-a4d8-7c2da8f24e3c",
   "metadata": {},
   "source": [
    "5. Accept two words as input and print the two words after adding a \n",
    "space between them"
   ]
  },
  {
   "cell_type": "code",
   "execution_count": 5,
   "id": "8ee7ccf1-8cdc-46bc-b372-70ce62a58dc9",
   "metadata": {},
   "outputs": [
    {
     "name": "stdout",
     "output_type": "stream",
     "text": [
      "enter the 1st word  mohit\n",
      "enter the 2nd word yadav\n",
      "mohit yadav\n"
     ]
    }
   ],
   "source": [
    "test1 = input(\"enter the 1st word \")\n",
    "test2 = input(\"enter the 2nd word\")\n",
    "\n",
    "print(test1+\" \"+test2)"
   ]
  },
  {
   "cell_type": "raw",
   "id": "1fdd53ab-a380-4caa-bdec-2876024a044d",
   "metadata": {},
   "source": [
    "6. Accept the registration number of a vehicle as input and print its \n",
    "state-code as output."
   ]
  },
  {
   "cell_type": "code",
   "execution_count": 6,
   "id": "a2d5cbe0-cd9c-40f0-bb5e-3d6ddeaa9bcc",
   "metadata": {},
   "outputs": [
    {
     "name": "stdout",
     "output_type": "stream",
     "text": [
      "enter vrhicle number  up16cm7764\n",
      "up\n"
     ]
    }
   ],
   "source": [
    "s = input(\"enter vrhicle number \")\n",
    "print(s[0:2])"
   ]
  },
  {
   "cell_type": "raw",
   "id": "e476d0d4-2d90-4764-b4ce-91d6d67729c2",
   "metadata": {},
   "source": [
    "7.Accept a five-digit number as input and print the sum of its digits as \n",
    "output."
   ]
  },
  {
   "cell_type": "code",
   "execution_count": 7,
   "id": "f3570dc8-c8d9-400a-8d44-a4eb74eaf8fe",
   "metadata": {},
   "outputs": [
    {
     "name": "stdout",
     "output_type": "stream",
     "text": [
      " 44322\n",
      "15\n"
     ]
    }
   ],
   "source": [
    "num = input()\n",
    "d1 = int(num[0])\n",
    "d2 = int(num[1])\n",
    "d3 = int(num[2])\n",
    "d4 = int(num[3])\n",
    "d5 = int(num[4])\n",
    "dsum = d1+d2+d3+d4+d5\n",
    "print(dsum)"
   ]
  },
  {
   "cell_type": "raw",
   "id": "47ef2a83-4d51-4340-8770-9490474f43a9",
   "metadata": {},
   "source": [
    "8.Accept five words as input and print the sentence formed by these \n",
    "words after adding a space between consecutive words and a full stop \n",
    "at the end."
   ]
  },
  {
   "cell_type": "code",
   "execution_count": 8,
   "id": "66e36dac-81ce-430f-b050-0eac3b40b8be",
   "metadata": {},
   "outputs": [
    {
     "name": "stdout",
     "output_type": "stream",
     "text": [
      " enter the word 1:  i \n",
      "enter the word 2:  am \n",
      " enter the word 3:  student \n",
      "enter the word 4:  of ineuron of \n",
      "enter the wordL  batch fsds 2.0\n",
      "sentence is :i  am  student  of ineuron of  batch fsds 2.0.\n"
     ]
    }
   ],
   "source": [
    "a = input(\" enter the word 1: \")\n",
    "b= input(\"enter the word 2: \")\n",
    "c = input(\" enter the word 3: \")\n",
    "d = input(\"enter the word 4: \")\n",
    "e = input(\"enter the wordL \")\n",
    "\n",
    "print(f\"sentence is :{a+' '+b+' '+c+' '+d+' '+e+'.'}\")"
   ]
  },
  {
   "cell_type": "raw",
   "id": "7b0fb9d7-98dc-4ab9-9548-c12f49f787a0",
   "metadata": {},
   "source": [
    "9.Accept the date in DD-MM-YYYY format as input and print the \n",
    "year as output."
   ]
  },
  {
   "cell_type": "code",
   "execution_count": 9,
   "id": "821c5da5-b8b2-4c42-a0e8-5c7597e57f61",
   "metadata": {},
   "outputs": [
    {
     "name": "stdout",
     "output_type": "stream",
     "text": [
      "enter the date:  11-09-`993\n",
      " year in date: `993\n"
     ]
    }
   ],
   "source": [
    "date = input(\"enter the date: \")\n",
    "print(f\" year in date: {date[6::]}\")"
   ]
  },
  {
   "cell_type": "raw",
   "id": "521abc20-5c4a-4fda-a3d7-45c626ad4d1c",
   "metadata": {},
   "source": [
    "10.Accept a sequence of five single digit numbers separated by commas \n",
    "as input. Print the product of all five numbers."
   ]
  },
  {
   "cell_type": "code",
   "execution_count": 11,
   "id": "8278f874-e30c-49a6-af49-2bf26c05c0cf",
   "metadata": {},
   "outputs": [
    {
     "name": "stdout",
     "output_type": "stream",
     "text": [
      " 34325\n",
      "360\n"
     ]
    }
   ],
   "source": [
    "num = input()\n",
    "d1 = int(num[0])\n",
    "d2 = int(num[1])\n",
    "d3 = int(num[2])\n",
    "d4 = int(num[3])\n",
    "d5 = int(num[4])\n",
    "dsum = d1*d2*d3*d4*d5\n",
    "print(dsum)"
   ]
  },
  {
   "cell_type": "raw",
   "id": "482e853e-2564-4eaf-a46b-0f31d3369f58",
   "metadata": {},
   "source": [
    "11. Accept two positive integers x and y as input. Print the number of \n",
    "digits in xy (x to the power of y )"
   ]
  },
  {
   "cell_type": "code",
   "execution_count": 12,
   "id": "18bbfb5f-c49c-497b-962c-247fc8692d62",
   "metadata": {},
   "outputs": [
    {
     "name": "stdout",
     "output_type": "stream",
     "text": [
      " 3\n",
      " 4\n",
      "2\n"
     ]
    }
   ],
   "source": [
    "x = int(input())\n",
    "y = int(input())\n",
    "z = x**y\n",
    "z = str(z)\n",
    "print(len(z))"
   ]
  },
  {
   "cell_type": "raw",
   "id": "b044efa5-000e-41c5-a3d7-efc2e65cfcfe",
   "metadata": {},
   "source": [
    " 12. Accept a string as input. If the input string is of odd length, then \n",
    "continue with it. If the input string is of even length, make the \n",
    "string of odd length as below:\n",
    "• If the last character is a period (.), then remove it \n",
    "• If the last character is not a period, then add a period (.) to the \n",
    "end of the string\n",
    "Call this string of odd length word. Select a substring made up of \n",
    "three consecutive characters from word such that there are an \n",
    "equal number of characters to the left and right of this substring. \n",
    "Print this substring as output. You can assume that all input \n",
    "strings will be in lower case and will have a length of at least four"
   ]
  },
  {
   "cell_type": "code",
   "execution_count": 13,
   "id": "5ab7f4a0-5e47-4826-bbd5-7da5253c7535",
   "metadata": {},
   "outputs": [
    {
     "name": "stdout",
     "output_type": "stream",
     "text": [
      " mohit\n",
      "ohi\n"
     ]
    }
   ],
   "source": [
    "s = input()\n",
    "n = len(s)\n",
    "if n/2 == 0:\n",
    "    if s[n-2] == '.':\n",
    "        s = s[:-1]\n",
    "    else:\n",
    "        s = s+\".\"\n",
    "n = int((len(s)-1)/2)\n",
    "print(s[n-1:n+2])"
   ]
  },
  {
   "cell_type": "raw",
   "id": "7188ddf7-aeae-43c7-add9-8a31e08a2bc9",
   "metadata": {},
   "source": [
    "13. Accept three positive integers as input and check if they form the \n",
    "sides of a right triangle. Print YES if they form one, and NO is they do \n",
    "not. The input will have three lines, with one integer on each line. \n",
    "The output should be a single line containing one of these two \n",
    "strings: YES or NO."
   ]
  },
  {
   "cell_type": "code",
   "execution_count": 14,
   "id": "a3b23bd4-fd3a-42c8-a71e-1d56073b4500",
   "metadata": {},
   "outputs": [
    {
     "name": "stdout",
     "output_type": "stream",
     "text": [
      " 4\n",
      " 3\n",
      " 2\n",
      "NO this not a triangle\n"
     ]
    }
   ],
   "source": [
    "a = int(input())\n",
    "b = int(input())\n",
    "c = int(input())\n",
    "if((a**2 + b**2 == c**2) or\n",
    "   (b**2 + c**2 == a** 2) or\n",
    "   (a**2 + c**2 == b**2)):\n",
    "    print(\"Yes this is right triangle\")\n",
    "else:\n",
    "    print(\"NO this not a triangle\")"
   ]
  },
  {
   "cell_type": "raw",
   "id": "5e16b40c-a122-4dbc-a681-bca1fe32a1dc",
   "metadata": {},
   "source": [
    "14. EvenOdd is a tech startup. Each employee at the startup is given an employee id which is a unique \n",
    "positive integer. On one warm Sunday evening, five employees of the company come together for a \n",
    "meeting and sit at a circular table:\n",
    "The employees follow a strange convention. They will continue the meeting only if the following \n",
    "condition is satisfied.\n",
    "The sum of the employee-ids of every pair of adjacent employees at the table must be an even \n",
    "number.\n",
    "They are so lazy that they won’t move around to satisfy the above condition, If the current seating \n",
    "plan doesn’t satisfy the condition, the meeting will be cancelled. You are given the employee-id of all \n",
    "five employees. Your task is to decide if the meeting happened or not.\n",
    "The input will be five lined, each containing an integer. The ith line will have the employee-id of Ei. \n",
    "The output will be a single line containing one of these two strings: YES or NO"
   ]
  },
  {
   "cell_type": "code",
   "execution_count": 16,
   "id": "97319b51-13cd-4771-b83c-e8939a41668d",
   "metadata": {},
   "outputs": [
    {
     "name": "stdout",
     "output_type": "stream",
     "text": [
      " 1\n",
      " 3\n",
      " 5\n",
      " 7\n",
      " 5\n",
      "yes\n"
     ]
    }
   ],
   "source": [
    "emp1=int(input())\n",
    "emp2=int(input())\n",
    "emp3=int(input())\n",
    "emp4=int(input())\n",
    "emp5=int(input())\n",
    "\n",
    "if ((emp1+emp2)%2 == 0 and\n",
    "    (emp2+emp3)%2 == 0 and\n",
    "    (emp3+emp4)%2 == 0 and\n",
    "    (emp4+emp5)%2 == 0 and\n",
    "    (emp5+emp1)%2 == 0):\n",
    "    print(\"yes\")\n",
    "else:\n",
    "    print(\"no\")"
   ]
  },
  {
   "cell_type": "raw",
   "id": "1d651eb9-add5-4f2b-9a92-57303f327be3",
   "metadata": {},
   "source": [
    "15. Accept a string as input and print the vowels present in the string in \n",
    "alphabetical order. If the string doesn’t contain any vowels, then \n",
    "print the string none as output. Each vowel that appears in the input \n",
    "string – irrespective of its case should appear just once in lower case \n",
    "in the output"
   ]
  },
  {
   "cell_type": "code",
   "execution_count": 17,
   "id": "bc9a80a2-8750-4b0a-8239-196a455f0afe",
   "metadata": {},
   "outputs": [
    {
     "name": "stdout",
     "output_type": "stream",
     "text": [
      " ineuron \n",
      "eiou\n"
     ]
    }
   ],
   "source": [
    "input_string = input().lower()\n",
    "vowels = \"\"\n",
    "if \"a\" in input_string:\n",
    "    vowels += \"a\"\n",
    "if \"e\" in input_string:\n",
    "    vowels += \"e\"\n",
    "if \"i\" in input_string:\n",
    "    vowels += \"i\"\n",
    "if \"o\" in input_string:\n",
    "    vowels += \"o\"\n",
    "if \"u\" in input_string:\n",
    "    vowels += \"u\"\n",
    "    \n",
    "if vowels != \"\":\n",
    "    print(vowels)\n",
    "else:\n",
    "    print(\"none\")\n",
    "    "
   ]
  },
  {
   "cell_type": "raw",
   "id": "f7e76b4b-b3f7-4766-a82b-5e63a879b380",
   "metadata": {},
   "source": [
    "16.You are given the date of birth of two persons, not necessarily from \n",
    "the same family. Your task is to find the younger of the two. If both \n",
    "of them share the same date of birth, then the younger of the two is \n",
    "assumed to be that person whose name comes first in alphabetical \n",
    "order.\n",
    "The input will have four lines. The first two lines correspond to the \n",
    "first person, while the last two lines correspond to the second \n",
    "person. For each person, the first line corresponds to the name and \n",
    "the second line corresponds to the date of birth in “DD-MM-YYYY” \n",
    "format. Your output should be the name of the younger of the two."
   ]
  },
  {
   "cell_type": "code",
   "execution_count": 18,
   "id": "c9993919-d43d-41aa-80e0-ffa91dfd8582",
   "metadata": {},
   "outputs": [
    {
     "name": "stdout",
     "output_type": "stream",
     "text": [
      " mohit\n",
      " 11-09-1993\n",
      " sweta\n",
      " 04-06-1997\n",
      "sweta\n"
     ]
    }
   ],
   "source": [
    "n1 = input()\n",
    "d1 = input()\n",
    "n2 = input()\n",
    "d2 = input()\n",
    "if d1 == d2:\n",
    "    if n1<n2:\n",
    "        print(n1)\n",
    "    else:\n",
    "        print(n2)\n",
    "elif d1[-4:] != d2[-4:] :\n",
    "    if int(d1[-4:]) < int(d2[-4:]):\n",
    "        print(n2)\n",
    "    else:\n",
    "        print(n1)\n",
    "elif d1[3:5] != d2[3:5] :\n",
    "    if int(d1[3:5]) < int(d2[3:5]):\n",
    "        print(n2)\n",
    "    else:\n",
    "        print(n1)\n",
    "else:\n",
    "    if int(d1[0:2]) < int(d2[0:2]):\n",
    "        print(n2)\n",
    "    else:\n",
    "        print(n1)"
   ]
  },
  {
   "cell_type": "raw",
   "id": "6ee8f8bd-15aa-40d8-9cef-2f7e22f6cf5d",
   "metadata": {},
   "source": [
    "17.Accept a string as input. Your task is to determine if the input string is a valid password or not. For a \n",
    "string to be a valid password, it must satisfy all the conditions given below:\n",
    "(1) It should have at least 8 and at most 32 characters\n",
    "(2) It should start with an uppercase or lowercase letter\n",
    "(3) It should not have any of these characters: / \\ = ' \"\n",
    "(4) It should not have spaces\n",
    "It could have any character that is not mentioned in the list of characters to be avoided (points 3 and \n",
    "4). Output True if the string forms a valid password and False otherwise"
   ]
  },
  {
   "cell_type": "code",
   "execution_count": 19,
   "id": "0b77d1fb-0b06-496c-999b-8f692a584dc8",
   "metadata": {},
   "outputs": [
    {
     "name": "stdout",
     "output_type": "stream",
     "text": [
      " mohit@1109\n",
      "True\n"
     ]
    }
   ],
   "source": [
    "p = input()\n",
    "if 8 <= len(p) <= 32 and p[0].isalpha() and '/' not in p and '\\\\' not in p and '=' not in p and '\\'' not in p and \" \" not in p :\n",
    "    print(\"True\")\n",
    "else:\n",
    "    print(\"false\")\n"
   ]
  },
  {
   "cell_type": "raw",
   "id": "a4d2f09c-6787-477e-8ed5-4ed4257469cb",
   "metadata": {},
   "source": [
    "18. Accept a positive integer n as input and print the first n positive \n",
    "integers, one number on each line."
   ]
  },
  {
   "cell_type": "code",
   "execution_count": 20,
   "id": "cf26cec0-12c4-4b3a-98d1-22a48de464e1",
   "metadata": {},
   "outputs": [
    {
     "name": "stdout",
     "output_type": "stream",
     "text": [
      " 5\n",
      "1\n",
      "2\n",
      "3\n",
      "4\n",
      "5\n"
     ]
    }
   ],
   "source": [
    "n = int(input())\n",
    "for i in range(1,n+1):\n",
    "    print(i)\n"
   ]
  },
  {
   "cell_type": "raw",
   "id": "0527265b-0110-476d-8bf6-6a724749197e",
   "metadata": {},
   "source": [
    "19.Accept a positive integer n as input, where n is greater than 1. \n",
    "Print PRIME if n is a prime number and NOTPRIME otherwise."
   ]
  },
  {
   "cell_type": "raw",
   "id": "8d8297d3-a658-4afd-9b7f-b2ee198faa52",
   "metadata": {},
   "source": [
    "20. Accept two strings as input and form a new string by removing all \n",
    "characters from the second string which are present in the first string. \n",
    "Print this new string as output. You can assume that all input strings \n",
    "will be in lower case"
   ]
  },
  {
   "cell_type": "code",
   "execution_count": 21,
   "id": "9592ce3e-a542-4dd9-a3f2-df48d389b5e6",
   "metadata": {},
   "outputs": [
    {
     "name": "stdout",
     "output_type": "stream",
     "text": [
      " mohit\n",
      " sweta\n",
      "swea\n"
     ]
    }
   ],
   "source": [
    "a = input()\n",
    "b = input()\n",
    "for c in a:\n",
    "    if c in b:\n",
    "        b = b.replace(c,'')\n",
    "print(b)"
   ]
  },
  {
   "cell_type": "raw",
   "id": "9d4ca698-02c3-415a-8b99-7b59c5702d8d",
   "metadata": {},
   "source": [
    "21.Accept a phone number as input. A valid phone number should satisfy \n",
    "the following constraints.\n",
    "(1) The number should start with one of these digits: 6, 7, 8, 9\n",
    "(2) The number should be exactly 10 digits long.\n",
    "(3) No digit should appear more than 7 times in the number.\n",
    "(4) No digit should appear more than 5 times in a row in the \n",
    "number.\n",
    "If the fourth condition is not very clear, then consider this example: \n",
    "the number 9888888765 is invalid because the digit 8 appears more \n",
    "than 5 times in a row. Print the string valid if the phone number is \n",
    "valid. If not, print the string invalid."
   ]
  },
  {
   "cell_type": "code",
   "execution_count": 4,
   "id": "cb36d3b6-acfb-479e-a4e7-6f57965aeb44",
   "metadata": {},
   "outputs": [
    {
     "name": "stdout",
     "output_type": "stream",
     "text": [
      " 326364889\n",
      "invalid\n"
     ]
    }
   ],
   "source": [
    "n = input()\n",
    "a = False\n",
    "if len(n) == 10 and int(n[0]) > 5 and n.isdigit():\n",
    "    for i in range(10):\n",
    "        if n.count(n[i])<8:\n",
    "            a = True\n",
    "            if n[i]*6 in n:\n",
    "                a = False\n",
    "                break\n",
    "            else:\n",
    "                break\n",
    "if a:\n",
    "    print(\"valid\")\n",
    "else:\n",
    "    print(\"invalid\")"
   ]
  },
  {
   "cell_type": "raw",
   "id": "781b0869-d8b7-4f2f-b4cd-16d0e128fd0f",
   "metadata": {},
   "source": [
    "22. In the first line of input, accept a sequence of space-separated words. In the second line of \n",
    "input, accept a single word. If this word is not present in the sequence, print NO. If this word \n",
    "is present in the sequence, then print YES and in the next line of the output, print the number \n",
    "of times the word appears in the sequence."
   ]
  },
  {
   "cell_type": "code",
   "execution_count": 6,
   "id": "09cbda9e-3946-48d2-9bbd-45f125f9d98c",
   "metadata": {},
   "outputs": [
    {
     "name": "stdout",
     "output_type": "stream",
     "text": [
      " i love code and i write code\n",
      "['i', 'love', 'code', 'and', 'i', 'write', 'code']\n",
      " code\n",
      "yes\n",
      "2\n"
     ]
    }
   ],
   "source": [
    "s = input().split(\" \")\n",
    "print(s)\n",
    "a = input()\n",
    "if a in s:\n",
    "    print(\"yes\")\n",
    "    print(s.count(a))\n",
    "else:\n",
    "    print(\"no\")"
   ]
  },
  {
   "cell_type": "raw",
   "id": "ea752210-2e2a-428b-937c-31251daf7ba8",
   "metadata": {},
   "source": [
    "23. Write a function named factorial that accepts an integer n as argument. It should return \n",
    "the factorial of n if n is a positive integer. It should return -1 if n is a negative integer, and it \n",
    "should return 1 if n is zero."
   ]
  },
  {
   "cell_type": "code",
   "execution_count": 39,
   "id": "7d965307-703c-40bd-b9da-4ca0ba5f4261",
   "metadata": {},
   "outputs": [],
   "source": [
    "def factorial(n):\n",
    "    if n<0:\n",
    "        return -1\n",
    "    elif n==1:\n",
    "        return 1\n",
    "    else:\n",
    "        f =1\n",
    "        for i in range(1,n+1):\n",
    "            f*=i\n",
    "        return f"
   ]
  },
  {
   "cell_type": "code",
   "execution_count": 40,
   "id": "44f02752-1b1c-4faa-b340-3eca0e02a0f9",
   "metadata": {},
   "outputs": [
    {
     "data": {
      "text/plain": [
       "720"
      ]
     },
     "execution_count": 40,
     "metadata": {},
     "output_type": "execute_result"
    }
   ],
   "source": [
    "factorial(6)"
   ]
  },
  {
   "cell_type": "raw",
   "id": "c757a0b6-8450-47af-9b1f-f6ce69ebc775",
   "metadata": {},
   "source": [
    "24. \n",
    "The range of a list of numbers is the difference between the maximum and minimum values in the list\n",
    "Write a function named get_range that accepts a non-empty list of real numbers as argument. It \n",
    "should return the range of the list.\n",
    "(1) Avoid using built-in function such as max and min.\n",
    "(2) You do not have to accept input from the user or print output to the console. You just have to write \n",
    "the function definition."
   ]
  },
  {
   "cell_type": "code",
   "execution_count": 9,
   "id": "b66c96e9-62bd-4538-9ccd-c03fe4d0cc7f",
   "metadata": {},
   "outputs": [],
   "source": [
    "def get_max(L):\n",
    "    maxi=L[0]\n",
    "    for x in L:\n",
    "        if x > maxi :\n",
    "            maxi = x\n",
    "    return maxi\n",
    "\n",
    "def get_min(L):\n",
    "    mini=L[0]\n",
    "    for x in L:\n",
    "        if x < mini :\n",
    "            mini = x\n",
    "    return mini\n",
    "\n",
    "def get_range(L):\n",
    "    maxi = get_max(L)\n",
    "    mini = get_min(L)\n",
    "    return maxi - mini\n"
   ]
  },
  {
   "cell_type": "code",
   "execution_count": 10,
   "id": "7a30ce48-d381-4852-96a7-9fb9e4d68c4b",
   "metadata": {},
   "outputs": [
    {
     "data": {
      "text/plain": [
       "6"
      ]
     },
     "execution_count": 10,
     "metadata": {},
     "output_type": "execute_result"
    }
   ],
   "source": [
    "get_range([2,3,4,5,8])"
   ]
  },
  {
   "cell_type": "raw",
   "id": "8f3ba3db-9ed9-4c14-ac23-41f3225ad874",
   "metadata": {},
   "source": [
    "25. Write a function named read_file that accepts a text file named filename as argument. Within \n",
    "the function, read the file and print each line of the file on a separate line in the console. You shouldn't \n",
    "print any extra characters at the end of a line. There shouldn't be an empty line between any two \n",
    "consecutive lines.\n",
    "(1) filename is a string variable that holds the name of the file. For example, in the first test case, it \n",
    "is filename = 'public_1.txt'.\n",
    "(2) You do not have to accept input from the console. You have to write the function definition and \n",
    "print the contents of the file within the function"
   ]
  },
  {
   "cell_type": "raw",
   "id": "b2d94805-f65b-47c2-9d18-2a8bdbe5c2dc",
   "metadata": {},
   "source": [
    "26. A simple algorithm has to be designed to find out whether a student \n",
    "belongs to the Data Science branch or not. The input will be a \n",
    "student's roll number, which is of the form BR18B0000. \n",
    "Here, BR represents the branch code, 18 represents the year of \n",
    "joining, B represents the education level and 0000 represents the \n",
    "specific identification given to the student of that batch. The branch \n",
    "code for Data Science is DS. Print True if the student belongs to \n",
    "Data Science branch and False otherwise."
   ]
  },
  {
   "cell_type": "code",
   "execution_count": 14,
   "id": "1b0b938b-45a0-4b91-abc4-1fa750425541",
   "metadata": {},
   "outputs": [
    {
     "name": "stdout",
     "output_type": "stream",
     "text": [
      " DS234567\n",
      "True\n"
     ]
    }
   ],
   "source": [
    "a = str(input())\n",
    "\n",
    "if a[0] != \"D\" and a[1] != \"S\":\n",
    "    print(\"False\")\n",
    "else:\n",
    "    print(\"True\")"
   ]
  },
  {
   "cell_type": "raw",
   "id": "52e69e6b-ab1d-411c-8750-7a2de08bc8dd",
   "metadata": {},
   "source": [
    "27.The police are trying to track a criminal based on the evidence \n",
    "available at a crime site. Their main clue is a vehicle's damaged \n",
    "number plate. Only the string TN07 is visible. The format of the \n",
    "registration number is AA00AA00, where the first two letters are \n",
    "alphabets, next two are numbers, next two are again alphabets \n",
    "followed by two numbers at the end. A number plate is picked from a \n",
    "database of registration numbers and is given to you as input. Your \n",
    "task is to determine if this could belong to the criminal or not. \n",
    "Print True if the number plate \n",
    "contains TN07 and False otherwise."
   ]
  },
  {
   "cell_type": "code",
   "execution_count": 20,
   "id": "f9e288f8-be31-4ad8-ada2-d4d06555f73b",
   "metadata": {},
   "outputs": [
    {
     "name": "stdout",
     "output_type": "stream",
     "text": [
      " AA00TN07\n",
      " True\n"
     ]
    }
   ],
   "source": [
    "veicle_criminal = input()\n",
    "if (veicle_criminal[0:4] ==\"TN07\") or  (veicle_criminal[4:8] == \"TN07\"):\n",
    "    print(\" True\")\n",
    "else:\n",
    "    print(\"false\")"
   ]
  },
  {
   "cell_type": "raw",
   "id": "11b4a079-30a1-480d-a759-2b54ab29f90f",
   "metadata": {},
   "source": [
    "28. You are given a string and two non-negative integers as input. The \n",
    "two integers specify the start and end indices of a substring in the \n",
    "given string. Create a new string by replicating the substring a \n",
    "minimum number of times so that the resulting string is longer than \n",
    "the input string. The input parameters are the string, start index of \n",
    "the substring and the end index of substring (endpoints inclusive) \n",
    "each on a different line."
   ]
  },
  {
   "cell_type": "code",
   "execution_count": 27,
   "id": "b3a496c6-f3be-497b-a44e-880a6f4c672c",
   "metadata": {},
   "outputs": [
    {
     "name": "stdout",
     "output_type": "stream",
     "text": [
      " code\n",
      " 2\n",
      " 4\n",
      "dedede\n"
     ]
    }
   ],
   "source": [
    "n = input()\n",
    "a = int(input())\n",
    "b = int(input())\n",
    "x = n[a:b+1]\n",
    "y = len(n)\n",
    "ans= \"\"\n",
    "while(y>=len(ans)):\n",
    "    ans+=x\n",
    "print(ans)\n",
    "\n"
   ]
  },
  {
   "cell_type": "raw",
   "id": "2c2d9d8e-e84a-4ca1-8791-8033b8e650a0",
   "metadata": {},
   "source": [
    "29. A class teacher has decided to split her entire class into four groups, namely Sapphire, Peridot, Ruby, \n",
    "and Emerald for sports competitions. For dividing the students into these four groups, she has \n",
    "followed the pattern given below:\n",
    "Sapphire - 1, 5, 9, 13, 17, 21, ...\n",
    "Peridot - 2, 6, 10, 14, 18, 22, ...\n",
    "Ruby - 3, 7, 11, 15, 19, 23, ...\n",
    "Emerald - 4, 8, 12, 16, 20, 24, ...\n",
    "All the students are represented by their roll numbers. Based on the above pattern, given the roll \n",
    "number as input, print the group the student belongs to. Note that the roll number can be any \n",
    "positive integer and not necessarily less than 25."
   ]
  },
  {
   "cell_type": "code",
   "execution_count": 28,
   "id": "d978f9ca-9968-4d4c-95e4-ef4e99964560",
   "metadata": {},
   "outputs": [
    {
     "name": "stdout",
     "output_type": "stream",
     "text": [
      " 45\n",
      "Sapphire\n"
     ]
    }
   ],
   "source": [
    "n = int(input())\n",
    "for i in range(1,n+1,4):\n",
    "    if n==i:\n",
    "        print(\"Sapphire\")\n",
    "for j in range(2,n+1,4):\n",
    "    if n == j:\n",
    "        print(\"Peridot\")\n",
    "for k in range(3,n+1,4):\n",
    "    if n == k:\n",
    "        print(\"Ruby\")\n",
    "for l in range(4,n+1,4):\n",
    "    if n == l:\n",
    "        print(\"Emerald\")"
   ]
  },
  {
   "cell_type": "raw",
   "id": "7e18467c-5ccb-4820-bc5f-c4adc9babe2c",
   "metadata": {},
   "source": [
    "30. A data science company wants to hire data scientists from abc college. \n",
    "The company follows a certain criteria for selection: for a student to \n",
    "be selected, the number of backlogs should be at most 5 and the \n",
    "CGPA (Cumulative Grade Point Average) should be greater than 6. If \n",
    "the student does not fit the above criteria, then the student is not \n",
    "offered the job. If the student is selected, then the salary offered is \n",
    "equal to 5 times his/her CGPA (in lakhs).\n",
    "Accept the number of backlogs (integer) and the CGPA (float) of the \n",
    "student as input. Your task is to determine if the student is selected or \n",
    "not. If the student is selected, then print the package. If not, then \n",
    "print the string Not Selected."
   ]
  },
  {
   "cell_type": "code",
   "execution_count": 30,
   "id": "f0dcdbac-9077-4036-bda6-e2f5215893e7",
   "metadata": {},
   "outputs": [
    {
     "name": "stdout",
     "output_type": "stream",
     "text": [
      " 4\n",
      " 8\n",
      "40.0\n"
     ]
    }
   ],
   "source": [
    "a = float(input())\n",
    "b = float(input())\n",
    "\n",
    "if a<=5 and b>6:\n",
    "    print(5*b)\n",
    "else:\n",
    "    print(\"not selected\")\n"
   ]
  },
  {
   "cell_type": "raw",
   "id": "15b2b2b3-e511-4184-af23-c42d9ee021b8",
   "metadata": {},
   "source": [
    "31. Accept a string as input and print PALINDROME if it is a \n",
    "palindrome, and NOT PALINDROME otherwise"
   ]
  },
  {
   "cell_type": "code",
   "execution_count": 39,
   "id": "655dd2be-e220-4ce8-a447-727c8c306e7c",
   "metadata": {},
   "outputs": [
    {
     "name": "stdout",
     "output_type": "stream",
     "text": [
      " mayalayam\n",
      "palindrom\n"
     ]
    }
   ],
   "source": [
    "n = str(input())\n",
    "if n == n[::-1]:\n",
    "    print(\"palindrom\")\n",
    "else:\n",
    "    print(\" not palindrom\")"
   ]
  },
  {
   "cell_type": "raw",
   "id": "92cfcd2b-ae26-4009-85b4-15e7996421ac",
   "metadata": {},
   "source": [
    "32. In a portal login website, you are asked to write a function get_password_strength to decide \n",
    "the strength of a password. The strength is decided based on the total score of the password, Use \n",
    "following conditions:\n",
    "1) If password has length greater than 7 then score increases by one point.\n",
    "2) If password has at least one upper case and one lower case alphabets score increases by one point.\n",
    "3) If password has at least one number and no consecutive numbers like 12 or 234 then score \n",
    "increases by one point.\n",
    "4) If password has at least one special character (any character other than numbers and alphabets) then \n",
    "score increases by one point.\n",
    "5) If password contains username, then it is invalid password.\n",
    "If the password has score of four points, three points, two points, or one point then print Very \n",
    "Strong, Strong, Moderate, or Weak respectively. If the password is invalid, then \n",
    "print PASSWORD SHOULD NOT CONTAIN USERNAME and If the score is zero, then print Use a \n",
    "different password.The arguments to the function are username and password which are \n",
    "already defined"
   ]
  },
  {
   "cell_type": "code",
   "execution_count": 2,
   "id": "dc739e2a-43dc-48bb-9d9d-80459c18bfda",
   "metadata": {},
   "outputs": [],
   "source": [
    "def get_password_strength(username, password):\n",
    "    c = 0\n",
    "    capital = \"ABCDEFGHIJKLMNOPQRSTUVWXYZ\"\n",
    "    c_flag= False\n",
    "    small = \"abcdefghijklmnopqrstuvwxyz\"\n",
    "    s_flag = False\n",
    "    num = \"0123456789\"\n",
    "    n_flag = False\n",
    "    nc_flag = True\n",
    "    if username in password:\n",
    "        print(\"PASSWORD SHOULD NOT CONTAIN USERNAME\")\n",
    "        return\n",
    "    if len(password)> 7 :\n",
    "        c = c+1\n",
    "    for i in range(len(password)):\n",
    "        if password[i] in small:\n",
    "            s_flag = True\n",
    "        elif password[i] in capital:\n",
    "            c_flag = True\n",
    "        elif password[i] in num:\n",
    "            n_flag = True\n",
    "        if n_flag:\n",
    "            if i!= (len(password)-1):\n",
    "                if num[((num.index(password[i]))+1)] == password[i+1]:\n",
    "                    nc_flag=False\n",
    "    \n",
    "    if c_flag and s_flag:\n",
    "        c+=1\n",
    "    if n_flag and nc_flag:\n",
    "        c+=1\n",
    "    if not password.isalnum():\n",
    "        c+=1\n",
    "    if c==4:\n",
    "        print(\"very strong\")\n",
    "    if c == 3:\n",
    "        print(\"strong\")\n",
    "    if c == 2:\n",
    "        print(\"moderate\")\n",
    "        return\n",
    "    if c == 1:\n",
    "        print(\"weak\")\n",
    "        return\n",
    "    if c==0:\n",
    "        print(\"use a different password\")\n",
    "        return   "
   ]
  },
  {
   "cell_type": "code",
   "execution_count": 3,
   "id": "65af8453-f89f-4e1e-80ae-4aea066dd54f",
   "metadata": {},
   "outputs": [
    {
     "name": "stdout",
     "output_type": "stream",
     "text": [
      "PASSWORD SHOULD NOT CONTAIN USERNAME\n"
     ]
    }
   ],
   "source": [
    "get_password_strength(\"mohit\" , \"mohit@ineuron\")"
   ]
  },
  {
   "cell_type": "raw",
   "id": "67644faf-c8dc-439d-9c26-54b16751b2e0",
   "metadata": {},
   "source": [
    "33.decorator that logs the date and time"
   ]
  },
  {
   "cell_type": "code",
   "execution_count": 2,
   "id": "1d9a29d0-e0e5-4e19-8c26-0c097ed1fd30",
   "metadata": {},
   "outputs": [],
   "source": [
    "from datetime import datetime\n",
    "\n",
    "def log_datetime(func):\n",
    "    def wrapper():\n",
    "        print(f\"function: {func.__name__} \\nRun on {datetime.today().strftime('%Y-%m-%d %H:%M:%S')}\")\n",
    "        print(f\"{'-'*30}\")\n",
    "        func()\n",
    "    return wrapper\n",
    "\n",
    "@log_datetime\n",
    "def daily_backup():\n",
    "    print(\"daily backup job has finished\")\n",
    "    "
   ]
  },
  {
   "cell_type": "code",
   "execution_count": 3,
   "id": "26f982c3-ea24-4196-b985-ba43eff0e013",
   "metadata": {},
   "outputs": [
    {
     "name": "stdout",
     "output_type": "stream",
     "text": [
      "function: daily_backup \n",
      "Run on 2023-06-08 09:59:22\n",
      "------------------------------\n",
      "daily backup job has finished\n"
     ]
    }
   ],
   "source": [
    "daily_backup()"
   ]
  },
  {
   "cell_type": "raw",
   "id": "93474414-e8ba-439d-9f7d-0f3f4eb648b9",
   "metadata": {},
   "source": [
    "34.Program to Get Data Items From a List Appearing Odd Number of Times"
   ]
  },
  {
   "cell_type": "code",
   "execution_count": 1,
   "id": "b5d449e0-e8a2-4e92-8049-c30bbeec4d66",
   "metadata": {},
   "outputs": [
    {
     "name": "stdout",
     "output_type": "stream",
     "text": [
      "[2, 3, 5]\n"
     ]
    }
   ],
   "source": [
    "a = [1,2,3,4,5,1,3,3,4]\n",
    "li = []\n",
    "for i in a:\n",
    "    if a.count(i) % 2 != 0 :\n",
    "        if i not in li:\n",
    "            li.append(i)\n",
    "print(li)\n",
    "    "
   ]
  },
  {
   "cell_type": "code",
   "execution_count": 14,
   "id": "66eed62b-d8be-4214-acd9-d4cdd19849a4",
   "metadata": {},
   "outputs": [],
   "source": [
    "# decorator function to convert to lowercase\n",
    "def lowercase_dec(function):\n",
    "    def wrapper():\n",
    "        func = function()\n",
    "        string_lowercase = func.lower()\n",
    "        return string_lowercase\n",
    "    return wrapper\n",
    "\n",
    "# decorator function to split words\n",
    "def splitter_dec(function):\n",
    "    def wrapper():\n",
    "        func = function()\n",
    "        string_split = func.split()\n",
    "        return string_split\n",
    "    return wrapper\n",
    "    \n",
    "\n",
    "@splitter_dec\n",
    "@lowercase_dec\n",
    "def hello():\n",
    "    return \"Hello world\""
   ]
  },
  {
   "cell_type": "code",
   "execution_count": 15,
   "id": "2b033604-8992-45a6-b03f-886de25f84d0",
   "metadata": {},
   "outputs": [
    {
     "data": {
      "text/plain": [
       "['hello', 'world']"
      ]
     },
     "execution_count": 15,
     "metadata": {},
     "output_type": "execute_result"
    }
   ],
   "source": [
    "hello()"
   ]
  },
  {
   "cell_type": "raw",
   "id": "70caf71f-6a2d-42a5-bb41-a83e99f3b0cb",
   "metadata": {},
   "source": [
    "35.What are decorators in Python?"
   ]
  },
  {
   "cell_type": "raw",
   "id": "00d3f3e6-8d1a-459c-8f05-fec2d7a72f0b",
   "metadata": {},
   "source": [
    "36. remove items from a list while iterating but without creating a different copy of a list.\n",
    "Remove numbers greater than 50\n",
    "number_list = [10, 20, 30, 40, 50, 60, 70, 80, 90, 100]\n",
    "Expected Output: [10, 20, 30, 40, 50]"
   ]
  },
  {
   "cell_type": "code",
   "execution_count": 34,
   "id": "14ec3aba-f229-4e17-8e73-b16911bb6551",
   "metadata": {},
   "outputs": [
    {
     "name": "stdout",
     "output_type": "stream",
     "text": [
      "[10, 20, 30, 40, 50]\n"
     ]
    }
   ],
   "source": [
    "number_list = [10, 20, 30, 40, 50, 60, 70, 80, 90, 100]\n",
    "i = 0\n",
    "n=len(number_list)\n",
    "while i<n:\n",
    "    if number_list[i] > 50:\n",
    "        del number_list[i]\n",
    "        n = n-1\n",
    "    else:\n",
    "        i = i+1\n",
    "print(number_list)"
   ]
  },
  {
   "cell_type": "raw",
   "id": "6a034cd6-9a75-4912-8286-2396360ffa28",
   "metadata": {},
   "source": [
    "37.  Display all duplicate items from a list\n",
    "sample_list = [10, 20, 60, 30, 20, 40, 30, 60, 70, 80]\n",
    "Expected Output: [20, 60, 30]"
   ]
  },
  {
   "cell_type": "code",
   "execution_count": 42,
   "id": "0310fd3f-e59c-43f6-8164-f55f2be05dcc",
   "metadata": {},
   "outputs": [
    {
     "name": "stdout",
     "output_type": "stream",
     "text": [
      "[20, 60, 30]\n"
     ]
    }
   ],
   "source": [
    "import collections\n",
    "sample_list = [10, 20, 60, 30, 20, 40, 30, 60, 70, 80]\n",
    "\n",
    "duplicates = []\n",
    "for item,count in collections.Counter(sample_list).items():\n",
    "    if count>1:\n",
    "        duplicates.append(item)\n",
    "print(duplicates)"
   ]
  },
  {
   "cell_type": "raw",
   "id": "03607aeb-291c-41e0-bb35-101d53d1f25f",
   "metadata": {},
   "source": [
    "38. Create an outer function that will accept two strings, x and y. (x= 'Emma' and y = 'Kelly'.\n",
    "Create an inner function inside an outer function that will concatenate x and y.\n",
    "At last, an outer function will join the word 'developer' to it."
   ]
  },
  {
   "cell_type": "code",
   "execution_count": 51,
   "id": "8e12440b-368c-46e3-8be5-7976e606e379",
   "metadata": {},
   "outputs": [],
   "source": [
    "def manipulate(x,y):\n",
    "    def inner_func(x,y):\n",
    "        return x + y\n",
    "    z= inner_func(x,y)\n",
    "    return z + \"Developer\""
   ]
  },
  {
   "cell_type": "code",
   "execution_count": 53,
   "id": "327e277e-b64c-439f-b25f-51fc230975fd",
   "metadata": {},
   "outputs": [
    {
     "name": "stdout",
     "output_type": "stream",
     "text": [
      "abcxyzDeveloper\n"
     ]
    }
   ],
   "source": [
    "result = manipulate(\"abc\",\"xyz\")\n",
    "print(result)"
   ]
  },
  {
   "cell_type": "raw",
   "id": "c3238d35-61fa-4d2a-8e92-c393399b1b5b",
   "metadata": {},
   "source": [
    "39. Modify the element of a nested list inside the following list\n",
    "Change the element 35 to 3500\n",
    "list1 = [5, [10, 15, [20, 25, [30, 35], 40], 45], 50]"
   ]
  },
  {
   "cell_type": "code",
   "execution_count": 63,
   "id": "6d47660c-2a02-4b92-b394-c8f50fe873b9",
   "metadata": {},
   "outputs": [
    {
     "data": {
      "text/plain": [
       "[5, [10, 15, [20, 25, [30, 3500], 40], 45], 50]"
      ]
     },
     "execution_count": 63,
     "metadata": {},
     "output_type": "execute_result"
    }
   ],
   "source": [
    "list1 = [5, [10, 15, [20, 25, [30, 35], 40], 45], 50]\n",
    "list1[1][2][-2][1]= 3500\n",
    "list1"
   ]
  },
  {
   "cell_type": "raw",
   "id": "0106b7da-e95f-46ba-873a-e641d7199be7",
   "metadata": {},
   "source": [
    "40.  Access the nested key increment from the following dictionary\n",
    "Access 12\n",
    "emp_dict = {\n",
    "    \"company\": {\n",
    "        \"employee\": {\n",
    "            \"name\": \"Jess\",\n",
    "            \"payable\": {\n",
    "                \"salary\": 9000,\n",
    "                \"increment\": 12\n",
    "            }\n",
    "        }\n",
    "    }\n",
    "}"
   ]
  },
  {
   "cell_type": "code",
   "execution_count": 70,
   "id": "0942b8fe-830a-4b56-8a57-58c1d65063e9",
   "metadata": {},
   "outputs": [
    {
     "data": {
      "text/plain": [
       "12"
      ]
     },
     "execution_count": 70,
     "metadata": {},
     "output_type": "execute_result"
    }
   ],
   "source": [
    "emp_dict = {\"company\" : { \"employee\" : { \"name\": \"Jess\",\"payable\": { \"salary\": 9000, \"increment\": 12}}}}\n",
    "\n",
    "emp_dict[\"company\"][\"employee\"][\"payable\"][\"increment\"]"
   ]
  },
  {
   "cell_type": "raw",
   "id": "a36e12a4-baf9-4c0b-90e6-c16fd60b02ba",
   "metadata": {},
   "source": [
    "41. Print the sum of the current number and the previous number\n",
    "Write a program to iterate the first 10 numbers and in each iteration, print the sum of the current and previous number.\n",
    "Printing current and previous number sum in a range(10)\n",
    "Current Number 0 Previous Number  0  Sum:  0\n",
    "Current Number 1 Previous Number  0  Sum:  1\n",
    "Current Number 2 Previous Number  1  Sum:  3\n",
    "Current Number 3 Previous Number  2  Sum:  5\n",
    "Current Number 4 Previous Number  3  Sum:  7\n",
    "Current Number 5 Previous Number  4  Sum:  9\n",
    "Current Number 6 Previous Number  5  Sum:  11\n",
    "Current Number 7 Previous Number  6  Sum:  13\n",
    "Current Number 8 Previous Number  7  Sum:  15\n",
    "Current Number 9 Previous Number  8  Sum:  17"
   ]
  },
  {
   "cell_type": "code",
   "execution_count": 75,
   "id": "d37404a4-d020-423c-9b41-0487d7932184",
   "metadata": {},
   "outputs": [
    {
     "name": "stdout",
     "output_type": "stream",
     "text": [
      "Current Number: 0 Previous Number:0 Sum:0\n",
      "Current Number: 1 Previous Number:0 Sum:1\n",
      "Current Number: 2 Previous Number:1 Sum:3\n",
      "Current Number: 3 Previous Number:2 Sum:5\n",
      "Current Number: 4 Previous Number:3 Sum:7\n",
      "Current Number: 5 Previous Number:4 Sum:9\n",
      "Current Number: 6 Previous Number:5 Sum:11\n",
      "Current Number: 7 Previous Number:6 Sum:13\n",
      "Current Number: 8 Previous Number:7 Sum:15\n",
      "Current Number: 9 Previous Number:8 Sum:17\n"
     ]
    }
   ],
   "source": [
    "sum =0 \n",
    "prev = 0\n",
    "for i in range(0,10):\n",
    "    sum = i + prev\n",
    "    print(f\"Current Number: {i} Previous Number:{prev} Sum:{sum}\")\n",
    "    prev = i"
   ]
  },
  {
   "cell_type": "raw",
   "id": "04f5ef21-9056-4a31-bc4d-b5641a6bc80d",
   "metadata": {},
   "source": [
    "42. Print characters from a string that are present at an even index number\n",
    "Write a program to accept a string from the user and display characters that are present at an even index number.\n",
    "\n",
    "For example, str = \"ineuron\" so you should display ‘i’, ‘e’, ‘r’, ‘n’."
   ]
  },
  {
   "cell_type": "code",
   "execution_count": 76,
   "id": "31b94a32-f86f-4e11-bbff-c99c579c5e31",
   "metadata": {},
   "outputs": [
    {
     "name": "stdout",
     "output_type": "stream",
     "text": [
      "input:  ineuron\n",
      "i e r n "
     ]
    }
   ],
   "source": [
    "string = input(\"input: \")\n",
    "for i in range(len(string)):\n",
    "    if i%2 == 0:\n",
    "        print(string[i], end=\" \")"
   ]
  },
  {
   "cell_type": "code",
   "execution_count": 77,
   "id": "47a72db6-7a66-4b9f-a151-8adb222eaed6",
   "metadata": {},
   "outputs": [
    {
     "name": "stdout",
     "output_type": "stream",
     "text": [
      " ineuron\n",
      "i e r n "
     ]
    }
   ],
   "source": [
    "s = input()\n",
    "for i in range(0,len(s),2):\n",
    "    print(s[i], end=\" \")"
   ]
  },
  {
   "cell_type": "raw",
   "id": "19f5f95f-8e4e-48c8-8639-247f8f058efa",
   "metadata": {},
   "source": [
    "43. Print multiplication table form 1 to 10\n",
    "1  2 3 4 5 6 7 8 9 10 \t\t\n",
    "2  4 6 8 10 12 14 16 18 20 \t\t\n",
    "3  6 9 12 15 18 21 24 27 30 \t\t\n",
    "4  8 12 16 20 24 28 32 36 40 \t\t\n",
    "5  10 15 20 25 30 35 40 45 50 \t\t\n",
    "6  12 18 24 30 36 42 48 54 60 \t\t\n",
    "7  14 21 28 35 42 49 56 63 70 \t\t\n",
    "8  16 24 32 40 48 56 64 72 80 \t\t\n",
    "9  18 27 36 45 54 63 72 81 90 \t\t\n",
    "10 20 30 40 50 60 70 80 90 100 "
   ]
  },
  {
   "cell_type": "code",
   "execution_count": 80,
   "id": "22154dc3-8cad-4679-81c5-5188e6f60092",
   "metadata": {},
   "outputs": [
    {
     "name": "stdout",
     "output_type": "stream",
     "text": [
      "1  2  3  4  5  6  7  8  9  10  \n",
      "\n",
      "2  4  6  8  10  12  14  16  18  20  \n",
      "\n",
      "3  6  9  12  15  18  21  24  27  30  \n",
      "\n",
      "4  8  12  16  20  24  28  32  36  40  \n",
      "\n",
      "5  10  15  20  25  30  35  40  45  50  \n",
      "\n",
      "6  12  18  24  30  36  42  48  54  60  \n",
      "\n",
      "7  14  21  28  35  42  49  56  63  70  \n",
      "\n",
      "8  16  24  32  40  48  56  64  72  80  \n",
      "\n",
      "9  18  27  36  45  54  63  72  81  90  \n",
      "\n",
      "10  20  30  40  50  60  70  80  90  100  \n",
      "\n"
     ]
    }
   ],
   "source": [
    "for i in range(1,11):\n",
    "    for j in range(1,11):\n",
    "        c = i*j\n",
    "        \n",
    "        print(f\"{c} \",end=\" \")\n",
    "    print(\"\\n\")\n"
   ]
  },
  {
   "cell_type": "raw",
   "id": "07f9b814-fc05-4a97-8a50-b762ab2522e6",
   "metadata": {},
   "source": [
    "44. Remove duplicates from a list and create a tuple and find the minimum and maximum number\n",
    "sample_list = [87, 45, 41, 65, 94, 41, 99, 94]\n",
    "Expected Outcome:\n",
    "unique items [87, 45, 41, 65, 99]\n",
    "tuple (87, 45, 41, 65, 99)\n",
    "min: 41\n",
    "max: 99"
   ]
  },
  {
   "cell_type": "code",
   "execution_count": 83,
   "id": "e0ec89ff-3cfd-4165-8f85-cdbd44979356",
   "metadata": {},
   "outputs": [
    {
     "name": "stdout",
     "output_type": "stream",
     "text": [
      "unique items  [70, 40, 10, 80, 20, 60, 30]\n",
      "(70, 40, 10, 80, 20, 60, 30)\n",
      "min 10\n",
      "max 80\n"
     ]
    }
   ],
   "source": [
    "ma = max(sample_list)\n",
    "mi = min(sample_list)\n",
    "s=set(sample_list)\n",
    "l = list(s)\n",
    "t = tuple(s)\n",
    "print(\"unique items \" ,l)\n",
    "print(t)\n",
    "print(\"min\",mi)\n",
    "print(\"max\",ma)"
   ]
  },
  {
   "cell_type": "raw",
   "id": "f4d4b1a2-7c19-43c4-922c-837b6c40f5fb",
   "metadata": {},
   "source": [
    "45. Write a Python program to create a lambda function that adds 15 to a given number passed in as an argument,\n",
    "also create a lambda function\n",
    "that multiplies argument x with argument y and print the result."
   ]
  },
  {
   "cell_type": "code",
   "execution_count": 84,
   "id": "c84d2fcc-fed3-40cf-84f4-14a1af9c69fd",
   "metadata": {},
   "outputs": [
    {
     "name": "stdout",
     "output_type": "stream",
     "text": [
      "Addition:  17\n",
      "multiplication:  30\n"
     ]
    }
   ],
   "source": [
    "add = lambda x: x+15\n",
    "print(\"Addition: \",add(2))\n",
    "mul = lambda x,y : x*y\n",
    "print(\"multiplication: \", mul(15,2))\n",
    "      "
   ]
  },
  {
   "cell_type": "raw",
   "id": "58df2f9a-6310-4e59-a5fe-6658ff7898e1",
   "metadata": {},
   "source": [
    "46. Write a Python program to sort a list of tuples using Lambda."
   ]
  },
  {
   "cell_type": "code",
   "execution_count": 87,
   "id": "691cb771-8936-4c7d-a46f-c18734555bcc",
   "metadata": {},
   "outputs": [
    {
     "data": {
      "text/plain": [
       "[(2, 'r'), (3, 't'), (4, 's')]"
      ]
     },
     "execution_count": 87,
     "metadata": {},
     "output_type": "execute_result"
    }
   ],
   "source": [
    "sortlist = lambda x:sorted(x)\n",
    "l = [(3,'t'),(2,'r'),(4,'s')]\n",
    "sortlist(l)"
   ]
  },
  {
   "cell_type": "code",
   "execution_count": 90,
   "id": "622292f1-a3da-4240-acd3-c0b9335e4b39",
   "metadata": {},
   "outputs": [
    {
     "name": "stdout",
     "output_type": "stream",
     "text": [
      "original list of tuples:\n",
      "[('english', 95), ('maths', 90), ('social studies', 92), ('science', 98)]\n",
      "\n",
      "sorting the list of tuples: \n",
      "[('maths', 90), ('social studies', 92), ('english', 95), ('science', 98)]\n"
     ]
    }
   ],
   "source": [
    "subject_mark = [(\"english\",95),(\"maths\" , 90),(\"social studies\" , 92),(\"science\" , 98)]\n",
    "print(\"original list of tuples:\")\n",
    "print(subject_mark)\n",
    "subject_mark.sort(key = lambda x: x[1])\n",
    "print(\"\\nsorting the list of tuples: \")\n",
    "print(subject_mark)"
   ]
  },
  {
   "cell_type": "raw",
   "id": "745bbb70-f71c-4042-a99a-f42bccef267e",
   "metadata": {},
   "source": [
    "47. Write a Python program to extract year, month, date and time using Lambda."
   ]
  },
  {
   "cell_type": "code",
   "execution_count": 98,
   "id": "46711ed2-f3f0-4c2d-9576-f1a7fdcf3735",
   "metadata": {},
   "outputs": [
    {
     "name": "stdout",
     "output_type": "stream",
     "text": [
      "2023-06-09 11:18:37.425453\n",
      "2023\n",
      "6\n",
      "9\n",
      "11:18:37.425453\n"
     ]
    }
   ],
   "source": [
    "import datetime\n",
    "now = datetime.datetime.now()\n",
    "print(now)\n",
    "year = lambda x:x.year\n",
    "month = lambda x: x.month\n",
    "day = lambda x: x.day\n",
    "t = lambda x:x.time()\n",
    "print(year(now))\n",
    "print(month(now))\n",
    "print(day(now))\n",
    "print(t(now))"
   ]
  },
  {
   "cell_type": "code",
   "execution_count": 106,
   "id": "34fae705-8762-4f0f-bf8e-2d456c61bce8",
   "metadata": {},
   "outputs": [
    {
     "data": {
      "text/plain": [
       "-23"
      ]
     },
     "execution_count": 106,
     "metadata": {},
     "output_type": "execute_result"
    }
   ],
   "source": [
    "x = lambda a,b,c : ((b**2)-(4*a*c))\n",
    "x(2,3,4)"
   ]
  },
  {
   "cell_type": "raw",
   "id": "afcf0f97-d39b-4554-a14f-411096bd515e",
   "metadata": {},
   "source": [
    "48. Write a Python program to count the even, odd numbers in a given array of integers using Lambda."
   ]
  },
  {
   "cell_type": "code",
   "execution_count": 130,
   "id": "8c25ded6-7aba-4894-b02a-723fd0f28e27",
   "metadata": {},
   "outputs": [
    {
     "name": "stdout",
     "output_type": "stream",
     "text": [
      "Total even numbers:  4\n",
      "Total odd numbers:  5\n"
     ]
    }
   ],
   "source": [
    "l = [1,2,3,4,5,6,7,8,9]\n",
    "\n",
    "even = len(list(filter(lambda x : x%2==0,l)))\n",
    "odd = len(list(filter(lambda x:x%2 !=0,l)))\n",
    "\n",
    "print(\"Total even numbers: \",even)\n",
    "print(\"Total odd numbers: \",odd)"
   ]
  },
  {
   "cell_type": "raw",
   "id": "dbd65ee9-2f83-4286-a7b3-52f398ab8527",
   "metadata": {},
   "source": [
    "49. Write a Python program to convert all the characters in uppercase and lowercase and eliminate duplicate letters from a given sequence.\n",
    "Use map() function."
   ]
  },
  {
   "cell_type": "code",
   "execution_count": 140,
   "id": "924ab836-1d2f-4d85-acb6-67c903eb0d52",
   "metadata": {},
   "outputs": [
    {
     "name": "stdout",
     "output_type": "stream",
     "text": [
      "{('A', 'a'), ('E', 'e'), ('N', 'n'), ('C', 'c')}\n"
     ]
    }
   ],
   "source": [
    "def test(s):\n",
    "    return str(s).upper(),str(s).lower()\n",
    "\n",
    "chars = ['a' , 'E', 'N','c']\n",
    "\n",
    "result = map(test,chars)\n",
    "\n",
    "print(set(result))"
   ]
  },
  {
   "cell_type": "raw",
   "id": "78c63beb-b43b-48ad-bb20-31f403af2f10",
   "metadata": {},
   "source": [
    "50.  Write a Python program to square the elements of a list using map() function."
   ]
  },
  {
   "cell_type": "code",
   "execution_count": 131,
   "id": "07eeb1b5-7302-46f1-ada8-526bad2238a3",
   "metadata": {},
   "outputs": [],
   "source": [
    "def multiply(n):\n",
    "    return n*n"
   ]
  },
  {
   "cell_type": "code",
   "execution_count": 142,
   "id": "8bdb64d7-b248-4932-9bb5-c8880a77e222",
   "metadata": {},
   "outputs": [
    {
     "name": "stdout",
     "output_type": "stream",
     "text": [
      "{1, 4, 9, 16, 25}\n"
     ]
    }
   ],
   "source": [
    "numbers = (1,2,3,4,5,5)\n",
    "result = map(multiply, numbers)\n",
    "print(set(result))\n"
   ]
  },
  {
   "cell_type": "code",
   "execution_count": null,
   "id": "098574f3-a354-493a-83f6-e27204771412",
   "metadata": {},
   "outputs": [],
   "source": []
  },
  {
   "cell_type": "code",
   "execution_count": null,
   "id": "68031429-4e64-4287-bfbb-61603d90ad60",
   "metadata": {},
   "outputs": [],
   "source": []
  }
 ],
 "metadata": {
  "kernelspec": {
   "display_name": "Python 3 (ipykernel)",
   "language": "python",
   "name": "python3"
  },
  "language_info": {
   "codemirror_mode": {
    "name": "ipython",
    "version": 3
   },
   "file_extension": ".py",
   "mimetype": "text/x-python",
   "name": "python",
   "nbconvert_exporter": "python",
   "pygments_lexer": "ipython3",
   "version": "3.9.13"
  }
 },
 "nbformat": 4,
 "nbformat_minor": 5
}
